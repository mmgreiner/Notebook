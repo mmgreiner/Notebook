{
 "cells": [
  {
   "cell_type": "markdown",
   "metadata": {
    "dotnet_interactive": {
     "language": "csharp"
    }
   },
   "source": [
    "# Visualize gender prediction\n",
    "\n",
    "This is based on the article in [Towards data science](https://towardsdatascience.com/machine-learning-project-9-predict-weight-based-on-height-and-gender-9ed47285bcbb).\n",
    "\n",
    "The data is originally from [kaggle](https://www.kaggle.com/datasets/mustafaali96/weight-height?select=weight-height.csv). However, I didn't find out how to download it directly, but I found the same dataset on [github](https://github.com/omairaasim/machine_learning/blob/master/project_9_predict_weight_sex/weight-height.csv). Remeber to get the *raw* data.\n",
    "\n",
    "Good explaination also found at [Infer.NET](https://dotnet.github.io/infer/userguide/Learners/Bayes%20Point%20Machine%20classifiers/Introduction.html)"
   ]
  },
  {
   "cell_type": "code",
   "execution_count": null,
   "metadata": {
    "dotnet_interactive": {
     "language": "fsharp"
    },
    "vscode": {
     "languageId": "dotnet-interactive.fsharp"
    }
   },
   "outputs": [
    {
     "data": {
      "text/html": [
       "<div><div></div><div></div><div><strong>Installed Packages</strong><ul><li><span>FSharp.Data, 4.2.8</span></li><li><span>Plotly.NET, 2.0.0-preview.18</span></li><li><span>Plotly.NET.Interactive, 2.0.0-preview.18</span></li></ul></div></div>"
      ]
     },
     "metadata": {},
     "output_type": "display_data"
    },
    {
     "data": {
      "text/markdown": [
       "Loading extensions from `Plotly.NET.Interactive.dll`"
      ]
     },
     "metadata": {},
     "output_type": "display_data"
    }
   ],
   "source": [
    "#r \"nuget: FSharp.Data\"\n",
    "#r \"nuget: Plotly.NET, 2.0.0-preview.18\"\n",
    "#r \"nuget: Plotly.NET.Interactive, 2.0.0-preview.18\"\n",
    "\n",
    "open System\n",
    "open FSharp.Data\n",
    "open Plotly.NET"
   ]
  },
  {
   "cell_type": "code",
   "execution_count": null,
   "metadata": {
    "dotnet_interactive": {
     "language": "fsharp"
    },
    "vscode": {
     "languageId": "dotnet-interactive.fsharp"
    }
   },
   "outputs": [
    {
     "name": "stdout",
     "output_type": "stream",
     "text": [
      "headers: Some [|\"Gender\"; \"Height\"; \"Weight\"|]\n"
     ]
    }
   ],
   "source": [
    "let githubraw = \"https://raw.githubusercontent.com/omairaasim/machine_learning/master/project_9_predict_weight_sex/weight-height.csv\"\n",
    "let kaggleUrl = \"https://www.kaggle.com/datasets/mustafaali96/weight-height?select=weight-height.csv\"\n",
    "let csv = CsvFile.Load(githubraw)\n",
    "printfn \"headers: %A\" csv.Headers "
   ]
  },
  {
   "cell_type": "markdown",
   "metadata": {},
   "source": [
    "Now we want to plot it with weight and height on two axis and the dots being colored accordingn to gender. Also note that the number are given in inches and pound, so they are converted."
   ]
  },
  {
   "cell_type": "code",
   "execution_count": null,
   "metadata": {
    "dotnet_interactive": {
     "language": "fsharp"
    },
    "vscode": {
     "languageId": "dotnet-interactive.fsharp"
    }
   },
   "outputs": [
    {
     "data": {
      "text/html": [
       "<table><thead><tr><th><i>index</i></th><th>Item1</th><th>Item2</th><th>Item3</th></tr></thead><tbody><tr><td>0</td><td><div class=\"dni-plaintext\">187.57141</div></td><td><div class=\"dni-plaintext\">109.721085</div></td><td>Male</td></tr><tr><td>1</td><td><div class=\"dni-plaintext\">174.70604</div></td><td><div class=\"dni-plaintext\">73.622795</div></td><td>Male</td></tr><tr><td>2</td><td><div class=\"dni-plaintext\">188.23967</div></td><td><div class=\"dni-plaintext\">96.497635</div></td><td>Male</td></tr><tr><td>3</td><td><div class=\"dni-plaintext\">182.19669</div></td><td><div class=\"dni-plaintext\">99.809586</div></td><td>Male</td></tr><tr><td>4</td><td><div class=\"dni-plaintext\">177.49977</div></td><td><div class=\"dni-plaintext\">93.5987</div></td><td>Male</td></tr><tr><td>5</td><td><div class=\"dni-plaintext\">170.82265</div></td><td><div class=\"dni-plaintext\">69.042274</div></td><td>Male</td></tr><tr><td>6</td><td><div class=\"dni-plaintext\">174.7141</div></td><td><div class=\"dni-plaintext\">83.42829</div></td><td>Male</td></tr><tr><td>7</td><td><div class=\"dni-plaintext\">173.60524</div></td><td><div class=\"dni-plaintext\">76.19042</div></td><td>Male</td></tr><tr><td>8</td><td><div class=\"dni-plaintext\">170.22813</div></td><td><div class=\"dni-plaintext\">79.800255</div></td><td>Male</td></tr><tr><td>9</td><td><div class=\"dni-plaintext\">161.17949</div></td><td><div class=\"dni-plaintext\">70.9417</div></td><td>Male</td></tr><tr><td>10</td><td><div class=\"dni-plaintext\">180.83626</div></td><td><div class=\"dni-plaintext\">84.64257</div></td><td>Male</td></tr><tr><td>11</td><td><div class=\"dni-plaintext\">181.96765</div></td><td><div class=\"dni-plaintext\">96.95136</div></td><td>Male</td></tr><tr><td>12</td><td><div class=\"dni-plaintext\">164.50647</div></td><td><div class=\"dni-plaintext\">75.80774</div></td><td>Male</td></tr><tr><td>13</td><td><div class=\"dni-plaintext\">175.979</div></td><td><div class=\"dni-plaintext\">85.93134</div></td><td>Male</td></tr><tr><td>14</td><td><div class=\"dni-plaintext\">175.87907</div></td><td><div class=\"dni-plaintext\">84.565125</div></td><td>Male</td></tr><tr><td>15</td><td><div class=\"dni-plaintext\">171.81989</div></td><td><div class=\"dni-plaintext\">78.102684</div></td><td>Male</td></tr><tr><td>16</td><td><div class=\"dni-plaintext\">183.94254</div></td><td><div class=\"dni-plaintext\">88.91704</div></td><td>Male</td></tr><tr><td>17</td><td><div class=\"dni-plaintext\">162.49478</div></td><td><div class=\"dni-plaintext\">78.418625</div></td><td>Male</td></tr><tr><td>18</td><td><div class=\"dni-plaintext\">176.88576</div></td><td><div class=\"dni-plaintext\">84.36091</div></td><td>Male</td></tr><tr><td>19</td><td><div class=\"dni-plaintext\">172.55745</div></td><td><div class=\"dni-plaintext\">82.74734</div></td><td>Male</td></tr><tr><td colspan=\"4\"><i>... (more)</i></td></tr></tbody></table>"
      ]
     },
     "metadata": {},
     "output_type": "display_data"
    }
   ],
   "source": [
    "let data = \n",
    "    csv.Rows\n",
    "    |> Seq.map (fun r -> single r.[\"Height\"] * 2.54f, single r.[\"Weight\"] * 0.4535924f, r.[\"Gender\"])\n",
    "data"
   ]
  },
  {
   "cell_type": "markdown",
   "metadata": {
    "dotnet_interactive": {
     "language": "fsharp"
    }
   },
   "source": [
    "Now take care of the colors. Female are red, Male are blue."
   ]
  },
  {
   "cell_type": "code",
   "execution_count": null,
   "metadata": {
    "dotnet_interactive": {
     "language": "fsharp"
    },
    "vscode": {
     "languageId": "dotnet-interactive.fsharp"
    }
   },
   "outputs": [],
   "source": [
    "let female = Color.fromString \"red\"\n",
    "let male = Color.fromString \"blue\"\n",
    "let toColor s = if s = \"Female\" then female else male"
   ]
  },
  {
   "cell_type": "code",
   "execution_count": null,
   "metadata": {
    "dotnet_interactive": {
     "language": "fsharp"
    },
    "vscode": {
     "languageId": "dotnet-interactive.fsharp"
    }
   },
   "outputs": [],
   "source": [
    "let xy = data |> Seq.map (fun (x, y, _) -> (x, y))\n",
    "let colors = data |> Seq.map (fun (_, _, c) -> toColor c)\n",
    "let chart =\n",
    "    Chart.Point (xy, MarkerColor = Color.fromColors colors)\n",
    "    |> Chart.withTitle \"Height vs Weight\"\n",
    "    |> Chart.withXAxisStyle(\"Height\", ShowGrid = false)\n",
    "    |> Chart.withYAxisStyle(\"Weight\", ShowGrid = false)\n",
    "chart\n",
    "|> Chart.show"
   ]
  }
 ],
 "metadata": {
  "kernelspec": {
   "display_name": ".NET (C#)",
   "language": "C#",
   "name": ".net-csharp"
  },
  "language_info": {
   "file_extension": ".cs",
   "mimetype": "text/x-csharp",
   "name": "C#",
   "pygments_lexer": "csharp",
   "version": "9.0"
  },
  "orig_nbformat": 4
 },
 "nbformat": 4,
 "nbformat_minor": 2
}
