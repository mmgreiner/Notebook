{
 "cells": [
  {
   "cell_type": "markdown",
   "metadata": {
    "dotnet_interactive": {
     "language": "pwsh"
    }
   },
   "source": [
    "# Test reading csv and excel"
   ]
  },
  {
   "cell_type": "code",
   "execution_count": null,
   "metadata": {
    "dotnet_interactive": {
     "language": "fsharp"
    }
   },
   "outputs": [
    {
     "data": {
      "text/html": [
       "<div><div></div><div></div><div><strong>Installed Packages</strong><ul><li><span>FSharp.Data, 4.2.6</span></li></ul></div></div>"
      ]
     },
     "metadata": {},
     "output_type": "display_data"
    }
   ],
   "source": [
    "#r \"nuget: FSharp.Data\"\n",
    "open System\n",
    "open System.Data\n",
    "open FSharp.Data"
   ]
  },
  {
   "cell_type": "markdown",
   "metadata": {},
   "source": [
    "## read a csv file into a DataSet"
   ]
  },
  {
   "cell_type": "code",
   "execution_count": null,
   "metadata": {
    "dotnet_interactive": {
     "language": "fsharp"
    }
   },
   "outputs": [
    {
     "data": {
      "text/html": [
       "<table><thead><tr><th><i>index</i></th><th>value</th></tr></thead><tbody><tr><td>0</td><td>/Users/mmgreiner/Projects/OperationResearch/ProductFinderCS/100_DC_Motors_Parts - export from IFS.csv</td></tr><tr><td>1</td><td>/Users/mmgreiner/Projects/OperationResearch/ProductFinderCS/EngPart_characteristics - 100DC_Motors.csv</td></tr></tbody></table>"
      ]
     },
     "metadata": {},
     "output_type": "display_data"
    }
   ],
   "source": [
    "let dir = \"/Users/mmgreiner/Projects/OperationResearch/ProductFinderCS\"\n",
    "\n",
    "let enumFiles dir pat =\n",
    "    IO.Directory.EnumerateFiles(dir, \"*.csv\") |> Seq.toList\n",
    "\n",
    "let files = enumFiles dir \"*.csv\"\n",
    "files\n"
   ]
  },
  {
   "cell_type": "markdown",
   "metadata": {},
   "source": [
    "Now create a class that reads a csv file and turns the rows into '''DataRows'''\n"
   ]
  },
  {
   "cell_type": "code",
   "execution_count": null,
   "metadata": {
    "dotnet_interactive": {
     "language": "fsharp"
    }
   },
   "outputs": [],
   "source": [
    "let (|IsInt|_|) (s: string) = match Int32.TryParse s with | true, i -> Some i | _ -> None\n",
    "let (|IsFloat|_|) (s: string) = match Double.TryParse s with | true, i -> Some i | _ -> None\n",
    "let (|IsDateTime|_|) (s: string) = match Double.TryParse s with | true, i -> Some i | _ -> None\n",
    "let (|IsBool|_|) (s: string) = match Boolean.TryParse s with | true, i -> Some i | _ -> None\n",
    "\n",
    "let guessType (sl: string seq) =\n",
    "    let mutable maybeOpt = false\n",
    "    let mutable guessTyp = Unchecked.defaultof<Type>\n",
    "    \n",
    "    let guesser = function \n",
    "                    | t when String.IsNullOrEmpty t -> \n",
    "                        maybeOpt <- true\n",
    "                    | IsFloat f -> guessTyp <- typedefof<float>\n",
    "                    | IsInt f -> guessTyp <- typedefof<int>\n",
    "                    | IsDateTime f -> guessTyp <- typedefof<DateTime>\n",
    "                    | IsBool f -> guessTyp <- typedefof<bool>\n",
    "                    | _ -> guessTyp <- typedefof<string>\n",
    "\n",
    "    sl |> Seq.iter guesser\n",
    "    \n"
   ]
  },
  {
   "cell_type": "code",
   "execution_count": null,
   "metadata": {
    "dotnet_interactive": {
     "language": "fsharp"
    }
   },
   "outputs": [],
   "source": [
    "type FSharp.Data.CsvFile with\n",
    "    member this.toDataTable name = \n",
    "        let headers = this.Headers.Value\n",
    "        let table = new DataTable(name)\n",
    "        for h in headers do\n",
    "            table.Columns.Add(new DataColumn(h))\n",
    "        this.Rows |> Seq.iter (fun r -> \n",
    "            let dr = table.NewRow()\n",
    "            let cols = [ for c in table.Columns do yield c ]\n",
    "            cols |> Seq.iteri (fun i c ->\n",
    "                dr.[i] <- r.[i]\n",
    "            )\n",
    "            table.Rows.Add(dr)\n",
    "        )\n",
    "        table"
   ]
  },
  {
   "cell_type": "markdown",
   "metadata": {
    "dotnet_interactive": {
     "language": "fsharp"
    }
   },
   "source": [
    "now try it"
   ]
  },
  {
   "cell_type": "code",
   "execution_count": null,
   "metadata": {
    "dotnet_interactive": {
     "language": "fsharp"
    }
   },
   "outputs": [],
   "source": [
    "let csv = CsvFile.Load(files.Head, separators = \";\")\n",
    "let table = csv.toDataTable \"Charactistics\"\n"
   ]
  },
  {
   "cell_type": "code",
   "execution_count": null,
   "metadata": {
    "dotnet_interactive": {
     "language": "fsharp"
    }
   },
   "outputs": [
    {
     "name": "stdout",
     "output_type": "stream",
     "text": [
      "col = Column1\n",
      "col = CONTRACT\n",
      "col = PART_NO\n",
      "col = IP_DESC\n",
      "col = ASSET_CLASS\n",
      "col = PART_STATUS\n",
      "col = STD_NAME_ID\n",
      "col = STD_NAME\n",
      "col = ENG_REVISION\n",
      "col = SUM(IPIS.QTY_ONHAND)\n",
      "col = SUM(IPIS.QTY_RESERVED)\n",
      "r0 = \"110043\"\n"
     ]
    }
   ],
   "source": [
    "for c in table.Columns do\n",
    "    printfn \"col = %A\" c\n",
    "\n",
    "let r0 = table.Rows.[0].[2]\n",
    "printfn \"r0 = %A\" r0"
   ]
  },
  {
   "cell_type": "markdown",
   "metadata": {},
   "source": [
    "Now try to guess the type"
   ]
  },
  {
   "cell_type": "code",
   "execution_count": null,
   "metadata": {
    "dotnet_interactive": {
     "language": "fsharp"
    }
   },
   "outputs": [
    {
     "name": "stdout",
     "output_type": "stream",
     "text": [
      "colum PART_NO = PART_NO\n",
      "r0 = \"1;MCH;110043;A-max16 EBCLL 2W SL 1WE;FG;A;161;DC-Motor;05;259;0\"\n"
     ]
    }
   ],
   "source": [
    "let c0 = table.Columns.[\"PART_NO\"]\n",
    "printfn \"colum %s = %A\" c0.ColumnName table.Columns.[c0.ColumnName] \n",
    "\n",
    "//let c0 = table.DefaultView.ToTable(false, \"CONTRACT\")\n",
    "printfn \"r0 = %A\" (tables.Rows.[0].[0])"
   ]
  },
  {
   "cell_type": "markdown",
   "metadata": {},
   "source": [
    "Now try how column names are transformed"
   ]
  },
  {
   "cell_type": "code",
   "execution_count": null,
   "metadata": {
    "dotnet_interactive": {
     "language": "fsharp"
    }
   },
   "outputs": [
    {
     "name": "stdout",
     "output_type": "stream",
     "text": [
      "name: Hallo Markkus/Hallo Markkus\n",
      "name: Hallo % Prozent/Hallo % Prozent\n",
      "name: Hallo (%)/Hallo (%)\n"
     ]
    }
   ],
   "source": [
    "let tab2 = new DataTable(\"Test Column Names\")\n",
    "[ \"Hallo Markkus\"; \"Hallo % Prozent\"; \"Hallo (%)\"]\n",
    "|> List.iter (fun h -> tab2.Columns.Add(new DataColumn(h)))\n",
    "\n",
    "for c in tab2.Columns do\n",
    "    printfn \"name: %s/%s\" c.ColumnName c.Caption\n"
   ]
  }
 ],
 "metadata": {
  "kernelspec": {
   "display_name": ".NET (PowerShell)",
   "language": "PowerShell",
   "name": ".net-pwsh"
  },
  "language_info": {
   "name": "PowerShell"
  }
 },
 "nbformat": 4,
 "nbformat_minor": 2
}
