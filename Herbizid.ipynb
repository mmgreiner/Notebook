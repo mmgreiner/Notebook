{
 "cells": [
  {
   "cell_type": "markdown",
   "metadata": {
    "dotnet_interactive": {
     "language": "fsharp"
    }
   },
   "source": [
    "# Einfluss Herbizide auf Überlebensrate\n",
    "Die Messungen wurden von Lea Schmidt et. al. durchgeführt.\n",
    "\n",
    "Die Software wurde als Notebook programmiert gemäss https://fslab.org/XPlot//chart/plotly-line-scatter-plots.html \n",
    "\n",
    "## Zuerst die Messdaten"
   ]
  },
  {
   "cell_type": "code",
   "execution_count": null,
   "metadata": {
    "dotnet_interactive": {
     "language": "fsharp"
    }
   },
   "outputs": [],
   "source": [
    "let Finalsan = [\n",
    "    3.3, 9\n",
    "    3.9, 10\n",
    "    4.5, 9\n",
    "    5.5, 2\n",
    "    5.5, 1\n",
    "]\n",
    "let Duplosan = [\n",
    "    2.7, 8\n",
    "    3.3, 8\n",
    "    3.6, 10\n",
    "    3.9, 10\n",
    "    4.9, 10\n",
    "    6.9, 8\n",
    "    8.9, 8\n",
    "    10.9, 9\n",
    "]\n",
    "let Roundup = [\n",
    "    0.3, 9\n",
    "    0.9, 9\n",
    "    1.5, 9\n",
    "    2.1, 9\n",
    "    2.7, 9\n",
    "    3, 8\n",
    "    3.2, 10\n",
    "    //3.3, 0\n",
    "    3.3, 10\n",
    "    3.9, 10\n",
    "    4.9, 9\n",
    "    5.9, 4\n",
    "    5.9, 10\n",
    "    6.9, 1\n",
    "    //6.9, 0\n",
    "    7.9, 2\n",
    "]"
   ]
  },
  {
   "cell_type": "markdown",
   "metadata": {},
   "source": [
    "Jetzt laden wir die Software, die die Plots macht."
   ]
  },
  {
   "cell_type": "code",
   "execution_count": null,
   "metadata": {
    "dotnet_interactive": {
     "language": "fsharp"
    }
   },
   "outputs": [
    {
     "data": {
      "text/html": [
       "<div><div></div><div></div><div><strong>Installed Packages</strong><ul><li><span>XPlot.Plotly.Interactive, 4.0.6</span></li></ul></div></div>"
      ]
     },
     "metadata": {},
     "output_type": "display_data"
    },
    {
     "data": {
      "text/markdown": [
       "Loading extensions from `XPlot.Plotly.Interactive.dll`"
      ]
     },
     "metadata": {},
     "output_type": "display_data"
    },
    {
     "data": {
      "text/markdown": [
       "Configuring PowerShell Kernel for XPlot.Plotly integration."
      ]
     },
     "metadata": {},
     "output_type": "display_data"
    },
    {
     "data": {
      "text/markdown": [
       "Installed support for XPlot.Plotly."
      ]
     },
     "metadata": {},
     "output_type": "display_data"
    }
   ],
   "source": [
    "#r \"nuget: XPlot.Plotly.Interactive\"\n",
    "open XPlot.Plotly"
   ]
  },
  {
   "cell_type": "markdown",
   "metadata": {},
   "source": [
    "Die Messdaten müssen je in die ``x`` und ``y`` Vektoren unterteilt werden.^"
   ]
  },
  {
   "cell_type": "code",
   "execution_count": null,
   "metadata": {
    "dotnet_interactive": {
     "language": "fsharp"
    }
   },
   "outputs": [],
   "source": [
    "let Finalsan_x = Finalsan |> List.map (fun (x, _) -> x) \n",
    "let Finalsan_y = Finalsan |> List.map (fun (_, y) -> y)\n",
    "let Duplosan_x = Duplosan |> List.map (fun (x, _) -> x)\n",
    "let Duplosan_y = Duplosan |> List.map (fun (_, y) -> y)\n",
    "let Roundup_x = Roundup |> List.map (fun (x, _) -> x)\n",
    "let Roundup_y = Roundup |> List.map (fun (_, y) -> y)"
   ]
  },
  {
   "cell_type": "markdown",
   "metadata": {},
   "source": [
    "Jetzt erstellen wir zuerst die drei Liniendiagramme, und fügen sie dann zu einem Chart zusammen."
   ]
  },
  {
   "cell_type": "code",
   "execution_count": null,
   "metadata": {
    "dotnet_interactive": {
     "language": "fsharp"
    }
   },
   "outputs": [
    {
     "data": {
      "text/html": [
       "<!DOCTYPE html>\n",
       "<div style=\"width: 900px; height: 500px;\" id=\"c2f8ed59-be82-4196-a8b0-f0148acaea5f\"></div><script type=\"text/javascript\">\n",
       "\n",
       "var renderPlotly = function() {\n",
       "    var xplotRequire = require.config({context:'xplot-3.0.1',paths:{plotly:'https://cdn.plot.ly/plotly-1.49.2.min'}}) || require;\n",
       "    xplotRequire(['plotly'], function(Plotly) { \n",
       "\n",
       "            var data = [{\"type\":\"scatter\",\"x\":[3.3,3.9,4.5,5.5,5.5],\"y\":[9,10,9,2,1],\"name\":\"Finalsan\"},{\"type\":\"scatter\",\"x\":[2.7,3.3,3.6,3.9,4.9,6.9,8.9,10.9],\"y\":[8,8,10,10,10,8,8,9],\"name\":\"Duplosan\"},{\"type\":\"scatter\",\"x\":[0.3,0.9,1.5,2.1,2.7,3.0,3.2,3.3,3.9,4.9,5.9,5.9,6.9,7.9],\"y\":[9,9,9,9,9,8,10,10,10,9,4,10,1,2],\"name\":\"Roundup\"}];\n",
       "           var layout = {\"xaxis\":{\"title\":\"Herbizid [µl]\",\"_isSubplotObj\":true},\"yaxis\":{\"title\":\"Lebend\",\"_isSubplotObj\":true}};\n",
       "           Plotly.newPlot('c2f8ed59-be82-4196-a8b0-f0148acaea5f', data, layout);\n",
       "        \n",
       "});\n",
       "};\n",
       "// ensure `require` is available globally\r\n",
       "if ((typeof(require) !==  typeof(Function)) || (typeof(require.config) !== typeof(Function))) {\r\n",
       "    let require_script = document.createElement('script');\r\n",
       "    require_script.setAttribute('src', 'https://cdnjs.cloudflare.com/ajax/libs/require.js/2.3.6/require.min.js');\r\n",
       "    require_script.setAttribute('type', 'text/javascript');\r\n",
       "    \r\n",
       "    \r\n",
       "    require_script.onload = function() {\r\n",
       "        renderPlotly();\r\n",
       "    };\r\n",
       "\r\n",
       "    document.getElementsByTagName('head')[0].appendChild(require_script);\r\n",
       "}\r\n",
       "else {\r\n",
       "    renderPlotly();\r\n",
       "}\r\n",
       "\n",
       "</script>\n"
      ]
     },
     "metadata": {},
     "output_type": "display_data"
    }
   ],
   "source": [
    "let finalsan_line =\n",
    "    Scatter(x = Finalsan_x, y = Finalsan_y, name = \"Finalsan\")\n",
    "let duplosan_line = \n",
    "    Scatter(x = Duplosan_x, y = Duplosan_y, name = \"Duplosan\")\n",
    "let roundup_line =\n",
    "    Scatter(x = Roundup_x, y = Roundup_y, name = \"Roundup\")\n",
    "\n",
    "let chart = [finalsan_line; duplosan_line; roundup_line] |> Chart.Plot\n",
    "chart.WithXTitle(\"Herbizid [µl]\")\n",
    "chart.WithYTitle(\"Lebend\")\n",
    "display(chart)\n"
   ]
  },
  {
   "cell_type": "markdown",
   "metadata": {},
   "source": [
    "Jetzt runterladen als interaktive HTML Datei."
   ]
  },
  {
   "cell_type": "code",
   "execution_count": null,
   "metadata": {
    "dotnet_interactive": {
     "language": "fsharp"
    }
   },
   "outputs": [],
   "source": [
    "let htmlx = chart.GetHtml()\n",
    "IO.File.WriteAllText(\"/Users/mmgreiner/Projects/Herbizid.html\", htmlx)"
   ]
  }
 ],
 "metadata": {
  "kernelspec": {
   "display_name": ".NET (F#)",
   "language": "F#",
   "name": ".net-fsharp"
  },
  "language": "fsharp",
  "language_info": {
   "file_extension": ".fs",
   "mimetype": "text/x-fsharp",
   "name": "F#",
   "pygments_lexer": "fsharp",
   "version": "5.0"
  }
 },
 "nbformat": 4,
 "nbformat_minor": 2
}
