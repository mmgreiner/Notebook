{
 "cells": [
  {
   "cell_type": "markdown",
   "metadata": {
    "dotnet_interactive": {
     "language": "csharp"
    }
   },
   "source": [
    "# Operation Research using Google's OR Tools"
   ]
  },
  {
   "cell_type": "code",
   "execution_count": null,
   "metadata": {
    "dotnet_interactive": {
     "language": "fsharp"
    },
    "vscode": {
     "languageId": "dotnet-interactive.fsharp"
    }
   },
   "outputs": [
    {
     "data": {
      "text/html": [
       "<div><div></div><div></div><div><strong>Installed Packages</strong><ul><li><span>Google.ORTools, 9.3.10497</span></li><li><span>Google.ORTools.FSharp, 9.2.9972</span></li></ul></div></div>"
      ]
     },
     "metadata": {},
     "output_type": "display_data"
    }
   ],
   "source": [
    "#r \"nuget: Google.ORTools\"\n",
    "#r \"nuget: Google.ORTools.FSharp\""
   ]
  },
  {
   "cell_type": "markdown",
   "metadata": {},
   "source": [
    "Implement the example of https://developers.google.com/optimization/introduction/dotnet but using F#."
   ]
  },
  {
   "cell_type": "code",
   "execution_count": null,
   "metadata": {
    "dotnet_interactive": {
     "language": "fsharp"
    },
    "vscode": {
     "languageId": "dotnet-interactive.fsharp"
    }
   },
   "outputs": [],
   "source": [
    "open System\n",
    "open Google.OrTools.LinearSolver\n",
    "open Google.OrTools.FSharp"
   ]
  },
  {
   "cell_type": "markdown",
   "metadata": {},
   "source": [
    "Special info on FSharp: https://github.com/google/or-tools/tree/stable/examples/dotnet\n",
    "\n"
   ]
  },
  {
   "cell_type": "markdown",
   "metadata": {},
   "source": [
    "Optimization example taken from [Juray Stacho lecture notes](https://www.cs.toronto.edu/~stacho/public/IEOR4004-notes1.pdf):\n",
    "\n",
    "$$ \\max{3 x_1 + 2 x_2} $$\n",
    "\n",
    "Subject to:\n",
    "\n",
    "$$ x_1 + x_2 \\le 80 $$\n",
    "\n",
    "$$ 2 x_1 + x_2 \\le 100 $$\n",
    "\n",
    "$$ x_1 \\le 40 $$\n",
    "\n",
    "$$ x_1, x_2 \\ge 0 $$\n"
   ]
  },
  {
   "cell_type": "code",
   "execution_count": null,
   "metadata": {
    "dotnet_interactive": {
     "language": "fsharp"
    },
    "vscode": {
     "languageId": "dotnet-interactive.fsharp"
    }
   },
   "outputs": [
    {
     "name": "stdout",
     "output_type": "stream",
     "text": [
      "objective = 180.0\n",
      "x1 = 20.000000\n",
      "x2 = 60.000000\n"
     ]
    }
   ],
   "source": [
    "let solver = Solver.CreateSolver(\"GLOP\")\n",
    "\n",
    "let x1 = solver.MakeNumVar(0.0, 1000.0, \"x1\")\n",
    "let x2 = solver.MakeNumVar(0.0, 1000.0, \"x2\")\n",
    "\n",
    "// Constraints\n",
    "solver.Add(LinearExpr.(<=)(x1 + x2, 80.0))\n",
    "solver.Add(LinearExpr.(<=)(x1 * 2.0 + x2, 100.0))\n",
    "solver.Add(LinearExpr.(<=)(x1, 40.0))\n",
    "\n",
    "// Objective function 3x1 + 2x2\n",
    "let objective = solver.Objective()\n",
    "objective.SetCoefficient(x1, 3)\n",
    "objective.SetCoefficient(x2, 2)\n",
    "objective.SetMaximization()\n",
    "solver.Solve()\n",
    "\n",
    "objective.Value() |> printfn \"objective = %A\"\n",
    "x1.SolutionValue() |> printfn \"x1 = %f\"\n",
    "x2.SolutionValue() |> printfn \"x2 = %f\"\n"
   ]
  }
 ],
 "metadata": {
  "kernelspec": {
   "display_name": ".NET (C#)",
   "language": "C#",
   "name": ".net-csharp"
  },
  "language_info": {
   "file_extension": ".cs",
   "mimetype": "text/x-csharp",
   "name": "C#",
   "pygments_lexer": "csharp",
   "version": "9.0"
  },
  "orig_nbformat": 4
 },
 "nbformat": 4,
 "nbformat_minor": 2
}
